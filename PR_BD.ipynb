{
 "cells": [
  {
   "cell_type": "markdown",
   "metadata": {},
   "source": [
    "# 1er étape :\n",
    "   ###       collecter les données a partir de OpenWeather et les stocker dans HDFS"
   ]
  },
  {
   "cell_type": "code",
   "execution_count": 1,
   "metadata": {},
   "outputs": [],
   "source": [
    "import requests\n",
    "import pandas as pd\n",
    "import time\n",
    "from datetime import datetime\n",
    "import subprocess\n",
    "import os"
   ]
  },
  {
   "cell_type": "code",
   "execution_count": 2,
   "metadata": {},
   "outputs": [
    {
     "ename": "KeyboardInterrupt",
     "evalue": "",
     "output_type": "error",
     "traceback": [
      "\u001b[1;31m---------------------------------------------------------------------------\u001b[0m",
      "\u001b[1;31mKeyboardInterrupt\u001b[0m                         Traceback (most recent call last)",
      "Cell \u001b[1;32mIn[2], line 55\u001b[0m\n\u001b[0;32m     52\u001b[0m \u001b[38;5;66;03m# Execute the command\u001b[39;00m\n\u001b[0;32m     53\u001b[0m subprocess\u001b[38;5;241m.\u001b[39mrun(command, shell\u001b[38;5;241m=\u001b[39m\u001b[38;5;28;01mTrue\u001b[39;00m)\n\u001b[1;32m---> 55\u001b[0m \u001b[43mtime\u001b[49m\u001b[38;5;241;43m.\u001b[39;49m\u001b[43msleep\u001b[49m\u001b[43m(\u001b[49m\u001b[38;5;241;43m10\u001b[39;49m\u001b[43m)\u001b[49m\n",
      "\u001b[1;31mKeyboardInterrupt\u001b[0m: "
     ]
    }
   ],
   "source": [
    "# API key \n",
    "API_KEY = \"4edc9281ea0d683c6caf71c7fdfdb7fa\"\n",
    "\n",
    "# Define the list of cities and country code\n",
    "cities = [\"Casablanca\", \"Tétouan\", \"Ouarzazate\", \"Ifrane\", \"Laayoune\"]\n",
    "country_code = \"MA\"\n",
    "\n",
    "# Initialize an empty DataFrame to store weather data\n",
    "columns = [\"City\", \"Timestamp\", \"Temperature (°C)\", \"Humidity (%)\", \"Winds (m/s)\", \"Clouds (%)\", \"Rain_1h (mm)\"]\n",
    "weather_df = pd.DataFrame(columns=columns)\n",
    "\n",
    "# Function to retrieve weather data\n",
    "def get_weather_data(city):\n",
    "    try:\n",
    "        # API endpoint for current weather data\n",
    "        url = f\"http://api.openweathermap.org/data/2.5/weather?q={city},{country_code}&appid={API_KEY}\"\n",
    "        response = requests.get(url)\n",
    "        data = response.json()\n",
    "\n",
    "        # Extract relevant weather information\n",
    "        temperature_kelvin = data[\"main\"][\"temp\"]\n",
    "        temperature_celsius = temperature_kelvin - 273.15\n",
    "        humidity = data[\"main\"][\"humidity\"]\n",
    "        winds = data[\"wind\"][\"speed\"]\n",
    "        clouds = data[\"clouds\"][\"all\"]\n",
    "        rain = data[\"rain\"][\"1h\"] if \"rain\" in data and \"1h\" in data[\"rain\"] else 0\n",
    "\n",
    "        # Get the current timestamp\n",
    "        current_time = datetime.now().strftime(\"%Y-%m-%d %H:%M:%S\")\n",
    "\n",
    "        # Append data to the DataFrame\n",
    "        weather_df.loc[len(weather_df)] = [city, current_time, temperature_celsius, humidity, winds, clouds, rain]\n",
    "\n",
    "    except Exception as e:\n",
    "        print(f\"Error fetching weather data for {city}: {e}\")\n",
    "\n",
    "# Main loop to collect data every 10 seconds\n",
    "while True:\n",
    "    for city in cities:\n",
    "        get_weather_data(city)\n",
    "    \n",
    "    if os.path.exists(\"BIG_DATA.csv\"):\n",
    "        # Remove the existing file\n",
    "        os.remove(\"BIG_DATA.csv\")\n",
    "\n",
    "    # Save the DataFrame to a CSV file\n",
    "    weather_df.to_csv(\"BIG_DATA.csv\", index=False)\n",
    "    \n",
    "    # Define the command to execute\n",
    "    command = [\"hdfs\", \"dfs\", \"-put\", \"-f\", \"BIG_DATA.csv\", \"/user/hdfs/BIG_DATA.csv\"]\n",
    "\n",
    "    # Execute the command\n",
    "    subprocess.run(command, shell=True)\n",
    "\n",
    "    time.sleep(10)"
   ]
  },
  {
   "cell_type": "code",
   "execution_count": 3,
   "metadata": {},
   "outputs": [
    {
     "data": {
      "text/plain": [
       "(430, 7)"
      ]
     },
     "execution_count": 3,
     "metadata": {},
     "output_type": "execute_result"
    }
   ],
   "source": [
    "weather_df.shape"
   ]
  },
  {
   "cell_type": "markdown",
   "metadata": {},
   "source": [
    "# 2ème étape:\n",
    "  ### prétraitement et traitement"
   ]
  },
  {
   "cell_type": "markdown",
   "metadata": {},
   "source": [
    "# 2.1 prétraitement\n"
   ]
  },
  {
   "cell_type": "code",
   "execution_count": 10,
   "metadata": {},
   "outputs": [],
   "source": [
    "from pyspark.sql import SparkSession\n",
    "from pyspark.sql.functions import to_timestamp, col\n",
    "\n",
    "# Créer une SparkSession\n",
    "spark = SparkSession.builder \\\n",
    "    .appName(\"Read CSV\") \\\n",
    "    .getOrCreate()\n",
    "\n",
    "# Lire le fichier CSV dans un DataFrame\n",
    "df = spark.read.format(\"csv\") \\\n",
    "    .option(\"header\", \"true\") \\\n",
    "    .load(\"hdfs://localhost:9000/user/hdfs/BIG_DATA.csv\")"
   ]
  },
  {
   "cell_type": "code",
   "execution_count": 11,
   "metadata": {},
   "outputs": [
    {
     "name": "stdout",
     "output_type": "stream",
     "text": [
      "+----------+-------------------+------------------+------------+-----------+----------+------------+\n",
      "|      City|          Timestamp|  Temperature (°C)|Humidity (%)|Winds (m/s)|Clouds (%)|Rain_1h (mm)|\n",
      "+----------+-------------------+------------------+------------+-----------+----------+------------+\n",
      "|Casablanca|2024-05-28 20:19:32|22.230000000000018|          73|       3.09|         2|         0.0|\n",
      "|   Tétouan|2024-05-28 20:19:32|21.430000000000007|          83|       6.69|        40|         0.0|\n",
      "|Ouarzazate|2024-05-28 20:19:33|             34.06|           7|       4.63|        20|         0.0|\n",
      "|    Ifrane|2024-05-28 20:19:33|21.090000000000032|          35|       6.78|       100|         0.0|\n",
      "|  Laayoune|2024-05-28 20:19:33|              24.0|          46|       8.23|         0|         0.0|\n",
      "|Casablanca|2024-05-28 20:19:48|22.230000000000018|          73|       3.09|         2|         0.0|\n",
      "|   Tétouan|2024-05-28 20:19:49|21.430000000000007|          83|       6.69|        40|         0.0|\n",
      "|Ouarzazate|2024-05-28 20:19:49|             34.06|           7|       4.63|        20|         0.0|\n",
      "|    Ifrane|2024-05-28 20:19:49|21.090000000000032|          35|       6.78|       100|         0.0|\n",
      "|  Laayoune|2024-05-28 20:19:49|              24.0|          46|       8.23|         0|         0.0|\n",
      "|Casablanca|2024-05-28 20:20:07|22.230000000000018|          73|       3.09|         2|         0.0|\n",
      "|   Tétouan|2024-05-28 20:20:07|21.430000000000007|          83|       6.69|        40|         0.0|\n",
      "|Ouarzazate|2024-05-28 20:20:08|             34.06|           7|       4.63|        20|         0.0|\n",
      "|    Ifrane|2024-05-28 20:20:09|21.090000000000032|          35|       6.78|       100|         0.0|\n",
      "|  Laayoune|2024-05-28 20:20:09|              24.0|          46|       8.23|         0|         0.0|\n",
      "|Casablanca|2024-05-28 20:20:24|22.230000000000018|          73|       3.09|         2|         0.0|\n",
      "|   Tétouan|2024-05-28 20:20:24|21.430000000000007|          83|       6.69|        40|         0.0|\n",
      "|Ouarzazate|2024-05-28 20:20:25|             34.06|           7|       4.63|        20|         0.0|\n",
      "|    Ifrane|2024-05-28 20:20:25|21.090000000000032|          35|       6.78|       100|         0.0|\n",
      "|  Laayoune|2024-05-28 20:20:25|              24.0|          46|       8.23|         0|         0.0|\n",
      "+----------+-------------------+------------------+------------+-----------+----------+------------+\n",
      "only showing top 20 rows\n",
      "\n"
     ]
    }
   ],
   "source": [
    "# Afficher le DataFrame \n",
    "df.show()"
   ]
  },
  {
   "cell_type": "code",
   "execution_count": 12,
   "metadata": {},
   "outputs": [
    {
     "name": "stdout",
     "output_type": "stream",
     "text": [
      "+----------+-------------------+----------------+------------+-----------+----------+------------+\n",
      "|      City|          Timestamp|Temperature (°C)|Humidity (%)|Winds (m/s)|Clouds (%)|Rain_1h (mm)|\n",
      "+----------+-------------------+----------------+------------+-----------+----------+------------+\n",
      "|Casablanca|2024-05-28 20:19:32|              22|          73|       3.09|         2|         0.0|\n",
      "|   Tétouan|2024-05-28 20:19:32|              21|          83|       6.69|        40|         0.0|\n",
      "|Ouarzazate|2024-05-28 20:19:33|              34|           7|       4.63|        20|         0.0|\n",
      "|    Ifrane|2024-05-28 20:19:33|              21|          35|       6.78|       100|         0.0|\n",
      "|  Laayoune|2024-05-28 20:19:33|              24|          46|       8.23|         0|         0.0|\n",
      "|Casablanca|2024-05-28 20:19:48|              22|          73|       3.09|         2|         0.0|\n",
      "|   Tétouan|2024-05-28 20:19:49|              21|          83|       6.69|        40|         0.0|\n",
      "|Ouarzazate|2024-05-28 20:19:49|              34|           7|       4.63|        20|         0.0|\n",
      "|    Ifrane|2024-05-28 20:19:49|              21|          35|       6.78|       100|         0.0|\n",
      "|  Laayoune|2024-05-28 20:19:49|              24|          46|       8.23|         0|         0.0|\n",
      "|Casablanca|2024-05-28 20:20:07|              22|          73|       3.09|         2|         0.0|\n",
      "|   Tétouan|2024-05-28 20:20:07|              21|          83|       6.69|        40|         0.0|\n",
      "|Ouarzazate|2024-05-28 20:20:08|              34|           7|       4.63|        20|         0.0|\n",
      "|    Ifrane|2024-05-28 20:20:09|              21|          35|       6.78|       100|         0.0|\n",
      "|  Laayoune|2024-05-28 20:20:09|              24|          46|       8.23|         0|         0.0|\n",
      "|Casablanca|2024-05-28 20:20:24|              22|          73|       3.09|         2|         0.0|\n",
      "|   Tétouan|2024-05-28 20:20:24|              21|          83|       6.69|        40|         0.0|\n",
      "|Ouarzazate|2024-05-28 20:20:25|              34|           7|       4.63|        20|         0.0|\n",
      "|    Ifrane|2024-05-28 20:20:25|              21|          35|       6.78|       100|         0.0|\n",
      "|  Laayoune|2024-05-28 20:20:25|              24|          46|       8.23|         0|         0.0|\n",
      "+----------+-------------------+----------------+------------+-----------+----------+------------+\n",
      "only showing top 20 rows\n",
      "\n"
     ]
    }
   ],
   "source": [
    "# Convert the temperature column to integer type\n",
    "df = df.withColumn(\"Temperature (°C)\", col(\"Temperature (°C)\").cast(\"int\"))\n",
    "\n",
    "# Show the DataFrame after preprocessing\n",
    "df.show()"
   ]
  },
  {
   "cell_type": "code",
   "execution_count": 13,
   "metadata": {},
   "outputs": [
    {
     "name": "stdout",
     "output_type": "stream",
     "text": [
      "+----------+-------------------+----------------+-----------+------------+--------+------+\n",
      "|      City|          Timestamp|Temperature (°C)|Winds (m/s)|Rain_1h (mm)|Humidity|Clouds|\n",
      "+----------+-------------------+----------------+-----------+------------+--------+------+\n",
      "|Casablanca|2024-05-28 20:19:32|              22|       3.09|         0.0|    0.73|  0.02|\n",
      "|   Tétouan|2024-05-28 20:19:32|              21|       6.69|         0.0|    0.83|   0.4|\n",
      "|Ouarzazate|2024-05-28 20:19:33|              34|       4.63|         0.0|    0.07|   0.2|\n",
      "|    Ifrane|2024-05-28 20:19:33|              21|       6.78|         0.0|    0.35|   1.0|\n",
      "|  Laayoune|2024-05-28 20:19:33|              24|       8.23|         0.0|    0.46|   0.0|\n",
      "|Casablanca|2024-05-28 20:19:48|              22|       3.09|         0.0|    0.73|  0.02|\n",
      "|   Tétouan|2024-05-28 20:19:49|              21|       6.69|         0.0|    0.83|   0.4|\n",
      "|Ouarzazate|2024-05-28 20:19:49|              34|       4.63|         0.0|    0.07|   0.2|\n",
      "|    Ifrane|2024-05-28 20:19:49|              21|       6.78|         0.0|    0.35|   1.0|\n",
      "|  Laayoune|2024-05-28 20:19:49|              24|       8.23|         0.0|    0.46|   0.0|\n",
      "|Casablanca|2024-05-28 20:20:07|              22|       3.09|         0.0|    0.73|  0.02|\n",
      "|   Tétouan|2024-05-28 20:20:07|              21|       6.69|         0.0|    0.83|   0.4|\n",
      "|Ouarzazate|2024-05-28 20:20:08|              34|       4.63|         0.0|    0.07|   0.2|\n",
      "|    Ifrane|2024-05-28 20:20:09|              21|       6.78|         0.0|    0.35|   1.0|\n",
      "|  Laayoune|2024-05-28 20:20:09|              24|       8.23|         0.0|    0.46|   0.0|\n",
      "|Casablanca|2024-05-28 20:20:24|              22|       3.09|         0.0|    0.73|  0.02|\n",
      "|   Tétouan|2024-05-28 20:20:24|              21|       6.69|         0.0|    0.83|   0.4|\n",
      "|Ouarzazate|2024-05-28 20:20:25|              34|       4.63|         0.0|    0.07|   0.2|\n",
      "|    Ifrane|2024-05-28 20:20:25|              21|       6.78|         0.0|    0.35|   1.0|\n",
      "|  Laayoune|2024-05-28 20:20:25|              24|       8.23|         0.0|    0.46|   0.0|\n",
      "+----------+-------------------+----------------+-----------+------------+--------+------+\n",
      "only showing top 20 rows\n",
      "\n"
     ]
    }
   ],
   "source": [
    "# Renaming the column to remove \"%\" and dividing its values by 100\n",
    "df = df.withColumn(\"Humidity\", col(\"Humidity (%)\") / 100).drop(\"Humidity (%)\")\n",
    "\n",
    "# Rename the column to remove \"%\" and divide its values by 100\n",
    "df = df.withColumn(\"Clouds\", col(\"Clouds (%)\") / 100).drop(\"Clouds (%)\")\n",
    "\n",
    "# Show the DataFrame after preprocessing\n",
    "df.show()"
   ]
  },
  {
   "cell_type": "code",
   "execution_count": 14,
   "metadata": {},
   "outputs": [],
   "source": [
    "# Convert the Timestamp column to timestampType\n",
    "df = df.withColumn(\"Timestamp\", to_timestamp(\"Timestamp\",\"yyyy-MM-dd HH:mm:ss\"))\n",
    "\n",
    "# Convert the winds (m/s) and rain_1h (mm) column to float type\n",
    "df = df.withColumn(\"winds (m/s)\", col(\"winds (m/s)\").cast(\"float\"))\n",
    "df = df.withColumn(\"rain_1h (mm)\", col(\"rain_1h (mm)\").cast(\"float\"))"
   ]
  },
  {
   "cell_type": "code",
   "execution_count": 15,
   "metadata": {},
   "outputs": [
    {
     "name": "stdout",
     "output_type": "stream",
     "text": [
      "root\n",
      " |-- City: string (nullable = true)\n",
      " |-- Timestamp: timestamp (nullable = true)\n",
      " |-- Temperature (°C): integer (nullable = true)\n",
      " |-- winds (m/s): float (nullable = true)\n",
      " |-- rain_1h (mm): float (nullable = true)\n",
      " |-- Humidity: double (nullable = true)\n",
      " |-- Clouds: double (nullable = true)\n",
      "\n"
     ]
    }
   ],
   "source": [
    "# Print the schema of the DataFrame\n",
    "df.printSchema()"
   ]
  },
  {
   "cell_type": "code",
   "execution_count": 16,
   "metadata": {},
   "outputs": [],
   "source": [
    "df_casa = df.filter(df.City == 'Casablanca')\n",
    "df_tet=df.filter(df.City == 'Tétouan')\n",
    "df_ifrane=df.filter(df.City == 'Ifrane')\n",
    "df_oua=df.filter(df.City == 'Ouarzazate')\n",
    "df_laay=df.filter(df.City == 'Laayoune')"
   ]
  },
  {
   "cell_type": "code",
   "execution_count": 17,
   "metadata": {},
   "outputs": [
    {
     "name": "stdout",
     "output_type": "stream",
     "text": [
      "+--------+-------------------+----------------+-----------+------------+--------+------+\n",
      "|    City|          Timestamp|Temperature (°C)|winds (m/s)|rain_1h (mm)|Humidity|Clouds|\n",
      "+--------+-------------------+----------------+-----------+------------+--------+------+\n",
      "|Laayoune|2024-05-28 20:19:33|              24|       8.23|         0.0|    0.46|   0.0|\n",
      "|Laayoune|2024-05-28 20:19:49|              24|       8.23|         0.0|    0.46|   0.0|\n",
      "|Laayoune|2024-05-28 20:20:09|              24|       8.23|         0.0|    0.46|   0.0|\n",
      "|Laayoune|2024-05-28 20:20:25|              24|       8.23|         0.0|    0.46|   0.0|\n",
      "|Laayoune|2024-05-28 20:20:40|              24|       8.23|         0.0|    0.46|   0.0|\n",
      "|Laayoune|2024-05-28 20:20:56|              24|       8.23|         0.0|    0.46|   0.0|\n",
      "|Laayoune|2024-05-28 20:21:11|              24|       8.23|         0.0|    0.46|   0.0|\n",
      "|Laayoune|2024-05-28 20:21:26|              24|       8.23|         0.0|    0.46|   0.0|\n",
      "|Laayoune|2024-05-28 20:21:41|              24|       8.23|         0.0|    0.46|   0.0|\n",
      "|Laayoune|2024-05-28 20:21:56|              24|       8.23|         0.0|    0.46|   0.0|\n",
      "|Laayoune|2024-05-28 20:22:11|              24|       8.23|         0.0|    0.46|   0.0|\n",
      "|Laayoune|2024-05-28 20:22:25|              24|       8.23|         0.0|    0.46|   0.0|\n",
      "|Laayoune|2024-05-28 20:22:40|              24|       8.23|         0.0|    0.46|   0.0|\n",
      "|Laayoune|2024-05-28 20:22:54|              24|       8.23|         0.0|    0.46|   0.0|\n",
      "|Laayoune|2024-05-28 20:23:09|              24|       8.23|         0.0|    0.46|   0.0|\n",
      "|Laayoune|2024-05-28 20:23:23|              24|       8.23|         0.0|    0.46|   0.0|\n",
      "|Laayoune|2024-05-28 20:23:39|              24|       8.23|         0.0|    0.46|   0.0|\n",
      "|Laayoune|2024-05-28 20:23:54|              24|       8.23|         0.0|    0.46|   0.0|\n",
      "|Laayoune|2024-05-28 20:24:09|              24|       8.23|         0.0|    0.46|   0.0|\n",
      "|Laayoune|2024-05-28 20:24:24|              24|       8.23|         0.0|    0.46|   0.0|\n",
      "+--------+-------------------+----------------+-----------+------------+--------+------+\n",
      "only showing top 20 rows\n",
      "\n"
     ]
    }
   ],
   "source": [
    "df_laay.show()"
   ]
  },
  {
   "cell_type": "markdown",
   "metadata": {},
   "source": [
    "# 2.2 traitement"
   ]
  },
  {
   "cell_type": "code",
   "execution_count": 18,
   "metadata": {},
   "outputs": [],
   "source": [
    "from pyspark.sql.functions import monotonically_increasing_id\n",
    "from pyspark.ml.regression import LinearRegression\n",
    "from pyspark.ml.feature import VectorAssembler"
   ]
  },
  {
   "cell_type": "code",
   "execution_count": 19,
   "metadata": {},
   "outputs": [
    {
     "name": "stdout",
     "output_type": "stream",
     "text": [
      "Processing data for Casablanca...\n",
      "+------+------------+--------+-----------+----------------+-----+--------------------+----------+\n",
      "|Clouds|rain_1h (mm)|Humidity|winds (m/s)|Temperature (°C)|index|            features|prediction|\n",
      "+------+------------+--------+-----------+----------------+-----+--------------------+----------+\n",
      "|   0.0|         0.0|    0.73|       3.09|              22|   68|[0.0,0.0,0.73,3.0...|      22.0|\n",
      "|   0.0|         0.0|    0.73|       3.09|              22|   69|[0.0,0.0,0.73,3.0...|      22.0|\n",
      "|   0.0|         0.0|    0.73|       3.09|              22|   70|[0.0,0.0,0.73,3.0...|      22.0|\n",
      "|   0.0|         0.0|    0.73|       3.09|              22|   71|[0.0,0.0,0.73,3.0...|      22.0|\n",
      "|   0.0|         0.0|    0.73|       3.09|              22|   72|[0.0,0.0,0.73,3.0...|      22.0|\n",
      "|   0.0|         0.0|    0.73|       3.09|              22|   73|[0.0,0.0,0.73,3.0...|      22.0|\n",
      "|   0.0|         0.0|    0.73|       3.09|              22|   74|[0.0,0.0,0.73,3.0...|      22.0|\n",
      "|   0.0|         0.0|    0.73|       3.09|              22|   75|[0.0,0.0,0.73,3.0...|      22.0|\n",
      "|   0.0|         0.0|    0.73|       3.09|              22|   76|[0.0,0.0,0.73,3.0...|      22.0|\n",
      "|   0.0|         0.0|    0.73|       3.09|              22|   77|[0.0,0.0,0.73,3.0...|      22.0|\n",
      "|   0.0|         0.0|    0.73|       3.09|              22|   78|[0.0,0.0,0.73,3.0...|      22.0|\n",
      "|   0.0|         0.0|    0.73|       3.09|              22|   79|[0.0,0.0,0.73,3.0...|      22.0|\n",
      "|   0.0|         0.0|    0.73|       3.09|              22|   80|[0.0,0.0,0.73,3.0...|      22.0|\n",
      "|   0.0|         0.0|    0.73|       3.09|              22|   81|[0.0,0.0,0.73,3.0...|      22.0|\n",
      "|   0.0|         0.0|    0.73|       3.09|              22|   82|[0.0,0.0,0.73,3.0...|      22.0|\n",
      "|   0.0|         0.0|    0.73|       3.09|              22|   83|[0.0,0.0,0.73,3.0...|      22.0|\n",
      "|   0.0|         0.0|    0.73|       3.09|              22|   84|[0.0,0.0,0.73,3.0...|      22.0|\n",
      "|   0.0|         0.0|    0.73|       3.09|              22|   85|[0.0,0.0,0.73,3.0...|      22.0|\n",
      "+------+------------+--------+-----------+----------------+-----+--------------------+----------+\n",
      "\n",
      "Model for Casablanca saved at: lr_model_1_casablanca.model\n",
      "Processing data for Tétouan...\n",
      "+------+------------+--------+-----------+----------------+-----+--------------------+----------+\n",
      "|Clouds|rain_1h (mm)|Humidity|winds (m/s)|Temperature (°C)|index|            features|prediction|\n",
      "+------+------------+--------+-----------+----------------+-----+--------------------+----------+\n",
      "|   0.4|         0.0|    0.83|       6.69|              21|   68|[0.4,0.0,0.83,6.6...|      21.0|\n",
      "|   0.4|         0.0|    0.83|       6.69|              21|   69|[0.4,0.0,0.83,6.6...|      21.0|\n",
      "|   0.4|         0.0|    0.83|       6.69|              21|   70|[0.4,0.0,0.83,6.6...|      21.0|\n",
      "|   0.4|         0.0|    0.83|       6.69|              21|   71|[0.4,0.0,0.83,6.6...|      21.0|\n",
      "|   0.4|         0.0|    0.83|       6.69|              21|   72|[0.4,0.0,0.83,6.6...|      21.0|\n",
      "|   0.4|         0.0|    0.83|       6.69|              21|   73|[0.4,0.0,0.83,6.6...|      21.0|\n",
      "|   0.4|         0.0|    0.83|       6.69|              21|   74|[0.4,0.0,0.83,6.6...|      21.0|\n",
      "|   0.4|         0.0|    0.83|       6.69|              21|   75|[0.4,0.0,0.83,6.6...|      21.0|\n",
      "|   0.4|         0.0|    0.83|       6.69|              21|   76|[0.4,0.0,0.83,6.6...|      21.0|\n",
      "|   0.4|         0.0|    0.83|       6.69|              21|   77|[0.4,0.0,0.83,6.6...|      21.0|\n",
      "|   0.4|         0.0|    0.83|       6.69|              21|   78|[0.4,0.0,0.83,6.6...|      21.0|\n",
      "|   0.4|         0.0|    0.83|       6.69|              21|   79|[0.4,0.0,0.83,6.6...|      21.0|\n",
      "|   0.4|         0.0|    0.83|       6.69|              21|   80|[0.4,0.0,0.83,6.6...|      21.0|\n",
      "|   0.4|         0.0|    0.83|       6.69|              21|   81|[0.4,0.0,0.83,6.6...|      21.0|\n",
      "|   0.4|         0.0|    0.83|       6.69|              21|   82|[0.4,0.0,0.83,6.6...|      21.0|\n",
      "|   0.4|         0.0|    0.83|       6.69|              21|   83|[0.4,0.0,0.83,6.6...|      21.0|\n",
      "|   0.4|         0.0|    0.83|       6.69|              21|   84|[0.4,0.0,0.83,6.6...|      21.0|\n",
      "|   0.4|         0.0|    0.83|       6.69|              21|   85|[0.4,0.0,0.83,6.6...|      21.0|\n",
      "+------+------------+--------+-----------+----------------+-----+--------------------+----------+\n",
      "\n",
      "Model for Tétouan saved at: lr_model_2_tétouan.model\n",
      "Processing data for Ouarzazate...\n",
      "+------+------------+--------+-----------+----------------+-----+--------------------+----------+\n",
      "|Clouds|rain_1h (mm)|Humidity|winds (m/s)|Temperature (°C)|index|            features|prediction|\n",
      "+------+------------+--------+-----------+----------------+-----+--------------------+----------+\n",
      "|   0.2|         0.0|    0.07|       4.63|              34|   68|[0.2,0.0,0.07,4.6...|      34.0|\n",
      "|   0.2|         0.0|    0.07|       4.63|              34|   69|[0.2,0.0,0.07,4.6...|      34.0|\n",
      "|   0.2|         0.0|    0.07|       4.63|              34|   70|[0.2,0.0,0.07,4.6...|      34.0|\n",
      "|   0.2|         0.0|    0.07|       4.63|              34|   71|[0.2,0.0,0.07,4.6...|      34.0|\n",
      "|   0.2|         0.0|    0.07|       4.63|              34|   72|[0.2,0.0,0.07,4.6...|      34.0|\n",
      "|   0.2|         0.0|    0.07|       4.63|              34|   73|[0.2,0.0,0.07,4.6...|      34.0|\n",
      "|   0.2|         0.0|    0.07|       4.63|              34|   74|[0.2,0.0,0.07,4.6...|      34.0|\n",
      "|   0.2|         0.0|    0.07|       4.63|              34|   75|[0.2,0.0,0.07,4.6...|      34.0|\n",
      "|   0.2|         0.0|    0.07|       4.63|              34|   76|[0.2,0.0,0.07,4.6...|      34.0|\n",
      "|   0.2|         0.0|    0.07|       4.63|              34|   77|[0.2,0.0,0.07,4.6...|      34.0|\n",
      "|   0.2|         0.0|    0.07|       4.63|              34|   78|[0.2,0.0,0.07,4.6...|      34.0|\n",
      "|   0.2|         0.0|    0.07|       4.63|              34|   79|[0.2,0.0,0.07,4.6...|      34.0|\n",
      "|   0.2|         0.0|    0.07|       4.63|              34|   80|[0.2,0.0,0.07,4.6...|      34.0|\n",
      "|   0.2|         0.0|    0.07|       4.63|              34|   81|[0.2,0.0,0.07,4.6...|      34.0|\n",
      "|   0.2|         0.0|    0.07|       4.63|              34|   82|[0.2,0.0,0.07,4.6...|      34.0|\n",
      "|   0.2|         0.0|    0.07|       4.63|              34|   83|[0.2,0.0,0.07,4.6...|      34.0|\n",
      "|   0.2|         0.0|    0.07|       4.63|              34|   84|[0.2,0.0,0.07,4.6...|      34.0|\n",
      "|   0.2|         0.0|    0.07|       4.63|              34|   85|[0.2,0.0,0.07,4.6...|      34.0|\n",
      "+------+------------+--------+-----------+----------------+-----+--------------------+----------+\n",
      "\n",
      "Model for Ouarzazate saved at: lr_model_3_ouarzazate.model\n",
      "Processing data for Ifrane...\n",
      "+------+------------+--------+-----------+----------------+-----+--------------------+------------------+\n",
      "|Clouds|rain_1h (mm)|Humidity|winds (m/s)|Temperature (°C)|index|            features|        prediction|\n",
      "+------+------------+--------+-----------+----------------+-----+--------------------+------------------+\n",
      "|   1.0|        0.14|    0.39|       8.32|              20|   68|[1.0,0.1400000005...|20.000000000000057|\n",
      "|   1.0|        0.14|    0.39|       8.32|              20|   69|[1.0,0.1400000005...|20.000000000000057|\n",
      "|   1.0|        0.14|    0.39|       8.32|              20|   70|[1.0,0.1400000005...|20.000000000000057|\n",
      "|   1.0|        0.14|    0.39|       8.32|              20|   71|[1.0,0.1400000005...|20.000000000000057|\n",
      "|   1.0|        0.14|    0.39|       8.32|              20|   72|[1.0,0.1400000005...|20.000000000000057|\n",
      "|   1.0|        0.14|    0.39|       8.32|              20|   73|[1.0,0.1400000005...|20.000000000000057|\n",
      "|   1.0|        0.14|    0.39|       8.32|              20|   74|[1.0,0.1400000005...|20.000000000000057|\n",
      "|   1.0|        0.14|    0.39|       8.32|              20|   75|[1.0,0.1400000005...|20.000000000000057|\n",
      "|   1.0|        0.14|    0.39|       8.32|              20|   76|[1.0,0.1400000005...|20.000000000000057|\n",
      "|   1.0|        0.14|    0.39|       8.32|              20|   77|[1.0,0.1400000005...|20.000000000000057|\n",
      "|   1.0|        0.14|    0.39|       8.32|              20|   78|[1.0,0.1400000005...|20.000000000000057|\n",
      "|   1.0|        0.14|    0.39|       8.32|              20|   79|[1.0,0.1400000005...|20.000000000000057|\n",
      "|   1.0|        0.14|    0.39|       8.32|              20|   80|[1.0,0.1400000005...|20.000000000000057|\n",
      "|   1.0|        0.14|    0.39|       8.32|              20|   81|[1.0,0.1400000005...|20.000000000000057|\n",
      "|   1.0|        0.14|    0.39|       8.32|              20|   82|[1.0,0.1400000005...|20.000000000000057|\n",
      "|   1.0|        0.14|    0.39|       8.32|              20|   83|[1.0,0.1400000005...|20.000000000000057|\n",
      "|   1.0|        0.14|    0.39|       8.32|              20|   84|[1.0,0.1400000005...|20.000000000000057|\n",
      "|   1.0|        0.14|    0.39|       8.32|              20|   85|[1.0,0.1400000005...|20.000000000000057|\n",
      "+------+------------+--------+-----------+----------------+-----+--------------------+------------------+\n",
      "\n",
      "Model for Ifrane saved at: lr_model_4_ifrane.model\n",
      "Processing data for Laayoune...\n",
      "+------+------------+--------+-----------+----------------+-----+--------------------+----------+\n",
      "|Clouds|rain_1h (mm)|Humidity|winds (m/s)|Temperature (°C)|index|            features|prediction|\n",
      "+------+------------+--------+-----------+----------------+-----+--------------------+----------+\n",
      "|   0.0|         0.0|    0.46|       8.23|              24|   68|[0.0,0.0,0.46,8.2...|      24.0|\n",
      "|   0.0|         0.0|    0.46|       8.23|              24|   69|[0.0,0.0,0.46,8.2...|      24.0|\n",
      "|   0.0|         0.0|    0.46|       8.23|              24|   70|[0.0,0.0,0.46,8.2...|      24.0|\n",
      "|   0.0|         0.0|    0.46|       8.23|              24|   71|[0.0,0.0,0.46,8.2...|      24.0|\n",
      "|   0.0|         0.0|    0.46|       8.23|              24|   72|[0.0,0.0,0.46,8.2...|      24.0|\n",
      "|   0.0|         0.0|    0.46|       8.23|              24|   73|[0.0,0.0,0.46,8.2...|      24.0|\n",
      "|   0.0|         0.0|    0.46|       8.23|              24|   74|[0.0,0.0,0.46,8.2...|      24.0|\n",
      "|   0.0|         0.0|    0.46|       8.23|              24|   75|[0.0,0.0,0.46,8.2...|      24.0|\n",
      "|   0.0|         0.0|    0.46|       8.23|              24|   76|[0.0,0.0,0.46,8.2...|      24.0|\n",
      "|   0.0|         0.0|    0.46|       8.23|              24|   77|[0.0,0.0,0.46,8.2...|      24.0|\n",
      "|   0.0|         0.0|    0.46|       8.23|              24|   78|[0.0,0.0,0.46,8.2...|      24.0|\n",
      "|   0.0|         0.0|    0.46|       8.23|              24|   79|[0.0,0.0,0.46,8.2...|      24.0|\n",
      "|   0.0|         0.0|    0.46|       8.23|              24|   80|[0.0,0.0,0.46,8.2...|      24.0|\n",
      "|   0.0|         0.0|    0.46|       8.23|              24|   81|[0.0,0.0,0.46,8.2...|      24.0|\n",
      "|   0.0|         0.0|    0.46|       8.23|              24|   82|[0.0,0.0,0.46,8.2...|      24.0|\n",
      "|   0.0|         0.0|    0.46|       8.23|              24|   83|[0.0,0.0,0.46,8.2...|      24.0|\n",
      "|   0.0|         0.0|    0.46|       8.23|              24|   84|[0.0,0.0,0.46,8.2...|      24.0|\n",
      "|   0.0|         0.0|    0.46|       8.23|              24|   85|[0.0,0.0,0.46,8.2...|      24.0|\n",
      "+------+------------+--------+-----------+----------------+-----+--------------------+----------+\n",
      "\n",
      "Model for Laayoune saved at: lr_model_5_laayoune.model\n"
     ]
    }
   ],
   "source": [
    "# Liste des villes\n",
    "cities = [\"Casablanca\", \"Tétouan\", \"Ouarzazate\", \"Ifrane\", \"Laayoune\"]\n",
    "\n",
    "\n",
    "# Boucle à travers chaque ville\n",
    "for i, city in enumerate(cities, start=1):\n",
    "    print(f\"Processing data for {city}...\")\n",
    "    \n",
    "    # Filtrer le DataFrame pour la ville actuelle\n",
    "    df_city = df.filter(df.City == city)\n",
    "    \n",
    "    # Sélection des colonnes requises\n",
    "    df_city = df_city.select(\"Clouds\", \"rain_1h (mm)\", \"Humidity\", \"winds (m/s)\", \"Temperature (°C)\")\n",
    "    \n",
    "    # Ajouter un index au DataFrame\n",
    "    df_city = df_city.withColumn(\"index\", monotonically_increasing_id())\n",
    "    \n",
    "    # Calculer le point de division pour 80% - 20%\n",
    "    total_count = df_city.count()\n",
    "    split_point = int(total_count * 0.8)\n",
    "    \n",
    "    # Diviser le DataFrame en utilisant l'index\n",
    "    train_df = df_city.filter(df_city.index < split_point)\n",
    "    test_df = df_city.filter(df_city.index >= split_point)\n",
    "    \n",
    "    # Assembler les caractéristiques\n",
    "    assembler = VectorAssembler(inputCols=[\"Clouds\", \"rain_1h (mm)\", \"Humidity\", \"winds (m/s)\",], outputCol=\"features\")\n",
    "    train_df = assembler.transform(train_df)\n",
    "    test_df = assembler.transform(test_df)\n",
    "    \n",
    "    # Définir le modèle de régression linéaire\n",
    "    lr = LinearRegression(featuresCol='features', labelCol='Temperature (°C)')\n",
    "    \n",
    "    # Ajuster le modèle\n",
    "    lr_model = lr.fit(train_df)\n",
    "    \n",
    "    # Faire des prédictions\n",
    "    predictions = lr_model.transform(test_df)\n",
    "    \n",
    "    # Afficher les prédictions\n",
    "    predictions.show()\n",
    "    \n",
    "    # Sauvegarder le modèle\n",
    "    model_path = f\"lr_model_{i}_{city.replace(' ', '_').lower()}.model\"\n",
    "    lr_model.save(model_path)\n",
    "    print(f\"Model for {city} saved at: {model_path}\")\n",
    "\n",
    "# Arrêter la session Spark\n",
    "spark.stop()"
   ]
  }
 ],
 "metadata": {
  "kernelspec": {
   "display_name": "Python 3",
   "language": "python",
   "name": "python3"
  },
  "language_info": {
   "codemirror_mode": {
    "name": "ipython",
    "version": 3
   },
   "file_extension": ".py",
   "mimetype": "text/x-python",
   "name": "python",
   "nbconvert_exporter": "python",
   "pygments_lexer": "ipython3",
   "version": "3.12.2"
  }
 },
 "nbformat": 4,
 "nbformat_minor": 2
}
